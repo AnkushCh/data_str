{
 "cells": [
  {
   "cell_type": "markdown",
   "metadata": {},
   "source": []
  },
  {
   "cell_type": "markdown",
   "metadata": {},
   "source": [
    "## Content\n",
    "1. Bubble Sort\n",
    "2. Selection Sort\n",
    "3. Insertion Sort\n",
    "4. Binary Search\n",
    "5. "
   ]
  },
  {
   "cell_type": "markdown",
   "metadata": {},
   "source": [
    "## 1. Bubble Sort \n",
    " Time Complexity O(N^2)\n",
    " \n",
    " Space Complexity O(1)"
   ]
  },
  {
   "cell_type": "code",
   "execution_count": 3,
   "metadata": {},
   "outputs": [
    {
     "name": "stdout",
     "output_type": "stream",
     "text": [
      "[1, 2, 3, 4, 5, 6, 8, 9]\n"
     ]
    }
   ],
   "source": [
    "def bubblesort(arr):\n",
    "    isSorted = False\n",
    "    while not isSorted:\n",
    "        isSorted = True\n",
    "        for i in range(len(arr)-1):\n",
    "            if arr[i] > arr[i+1]:\n",
    "                arr[i],arr[i+1] = arr[i+1],arr[i]\n",
    "                isSorted = False\n",
    "    return arr\n",
    "arr = [6,1,9,2,8,4,3,5]\n",
    "print(bubblesort(arr))"
   ]
  },
  {
   "cell_type": "code",
   "execution_count": null,
   "metadata": {},
   "outputs": [],
   "source": []
  },
  {
   "cell_type": "code",
   "execution_count": null,
   "metadata": {},
   "outputs": [],
   "source": []
  },
  {
   "cell_type": "code",
   "execution_count": null,
   "metadata": {},
   "outputs": [],
   "source": []
  },
  {
   "cell_type": "code",
   "execution_count": null,
   "metadata": {},
   "outputs": [],
   "source": []
  },
  {
   "cell_type": "code",
   "execution_count": null,
   "metadata": {},
   "outputs": [],
   "source": []
  },
  {
   "cell_type": "markdown",
   "metadata": {},
   "source": [
    "## 2. Selection Sort\n",
    "\n",
    " Time Complexity O(N^2)\n",
    " \n",
    " Space Complexity O(1)"
   ]
  },
  {
   "cell_type": "code",
   "execution_count": 10,
   "metadata": {},
   "outputs": [
    {
     "name": "stdout",
     "output_type": "stream",
     "text": [
      "[1, 1, 2, 3, 5, 6, 7]\n"
     ]
    }
   ],
   "source": [
    "def selectionSort(arr):\n",
    "    currInd = 0\n",
    "    while currInd < len(arr) - 1:\n",
    "        minInd = currInd\n",
    "        for j in range(currInd+1,len(arr)):\n",
    "            if arr[minInd] > arr[j]:\n",
    "                minInd = j\n",
    "        arr[minInd],arr[currInd] = arr[currInd],arr[minInd]\n",
    "        currInd += 1\n",
    "    return arr\n",
    "\n",
    "arr = [6,1,5,2,7,3,1]\n",
    "print(selectionSort(arr))\n",
    "                \n",
    "                \n",
    "                \n",
    "            "
   ]
  },
  {
   "cell_type": "markdown",
   "metadata": {},
   "source": [
    "## 3. Insertion Sort\n",
    "Time Complexity O(n^2)\n",
    "\n",
    "Space Complexity O(1)"
   ]
  },
  {
   "cell_type": "code",
   "execution_count": 13,
   "metadata": {},
   "outputs": [
    {
     "name": "stdout",
     "output_type": "stream",
     "text": [
      "[1, 2, 4, 4, 5, 8]\n"
     ]
    }
   ],
   "source": [
    "def insertionSort(arr):\n",
    "    for i in range(1,len(arr)):\n",
    "            q = i\n",
    "            while q > 0:\n",
    "                if arr[q-1] > arr[q]:\n",
    "                    arr[q-1],arr[q] = arr[q],arr[q-1]\n",
    "                q -= 1\n",
    "    return arr\n",
    "arr = [5,1,8,4,2,4,]\n",
    "sortarr = []\n",
    "sortarr = insertionSort(arr)\n",
    "print(sortarr)\n",
    "                "
   ]
  },
  {
   "cell_type": "markdown",
   "metadata": {},
   "source": [
    "## 4.a Binary Search in  Recursive  \n",
    "\n",
    "Time COmplexity  O(log(n))\n",
    "\n",
    "Space Complexity  O(log(n))"
   ]
  },
  {
   "cell_type": "code",
   "execution_count": 55,
   "metadata": {},
   "outputs": [
    {
     "name": "stdout",
     "output_type": "stream",
     "text": [
      "Element 8 is present at 8 position\n"
     ]
    }
   ],
   "source": [
    "def binarySearchRec(l,u,arr,x):\n",
    "    if l <= u:\n",
    "        mid = (l+u)//2\n",
    "        if x == arr[mid]:\n",
    "            return mid\n",
    "        elif x < arr[mid]:\n",
    "            return binarySearchRec(l,mid-1,arr,x)\n",
    "        elif x > arr[mid]:\n",
    "            return binarySearchRec(mid+1,u,arr,x)\n",
    "    else:\n",
    "        return -1\n",
    "\n",
    "arr = [1,2,3,4,5,6,7,8,9]\n",
    "\n",
    "x = 8\n",
    "res = binarySearchRec(0,len(arr)-1,arr,x)\n",
    "\n",
    "if res == -1:\n",
    "    print(\"Element is not present in array\")\n",
    "else:\n",
    "    print(\"Element %d is present at %d position\"%(x,res + 1))"
   ]
  },
  {
   "cell_type": "markdown",
   "metadata": {},
   "source": [
    "## 4.b Binary Search in Iterative \n",
    "Time Complexity  O(log(n)) \n",
    "\n",
    "Space Complexity O(1)"
   ]
  },
  {
   "cell_type": "code",
   "execution_count": 43,
   "metadata": {},
   "outputs": [
    {
     "name": "stdout",
     "output_type": "stream",
     "text": [
      "Element is not present in array\n"
     ]
    }
   ],
   "source": [
    "def binarySearch(l,u,x,arr):\n",
    "    while l <= u:\n",
    "        mid = (l+u) // 2\n",
    "        if x == arr[mid]:\n",
    "            return mid\n",
    "        elif x < arr[mid]:\n",
    "            u = mid-1\n",
    "        elif x > arr[mid]:\n",
    "            l = mid+1\n",
    "    return -1\n",
    "       \n",
    "arr = [1,2,3,5,6,7,8,9]\n",
    "x = 4\n",
    "res = binarySearch(0,len(arr)-1,x,arr)\n",
    "if res == -1:\n",
    "    print(\"Element is not present in array\")\n",
    "else:\n",
    "    print(\"Element %d is present at %d positon\"%(x,res + 1))"
   ]
  },
  {
   "cell_type": "code",
   "execution_count": 42,
   "metadata": {},
   "outputs": [
    {
     "name": "stdout",
     "output_type": "stream",
     "text": [
      "Inorder :  10 5 15 2 9 8 11 1 21 4 25 3 28 6 30 Preorder :  1 2 5 10 15 8 9 11 3 4 21 25 6 28 30 Postorder :  10 15 5 9 11 8 2 21 25 4 28 30 6 3 1 "
     ]
    }
   ],
   "source": [
    "class Node:\n",
    "    def __init__(self,key):\n",
    "        self.left = None\n",
    "        self.right = None\n",
    "        self.key = key\n",
    "    \n",
    "def inorder(root):\n",
    "    if root:\n",
    "        inorder(root.left)\n",
    "        print(root.key,end = \" \")\n",
    "        inorder(root.right)\n",
    "\n",
    "def preorder(root):\n",
    "    if root:\n",
    "        print(root.key,end = \" \")\n",
    "        preorder(root.left)\n",
    "        preorder(root.right)\n",
    "\n",
    "def postorder(root):\n",
    "    if root:\n",
    "        postorder(root.left)\n",
    "        postorder(root.right)\n",
    "        print(root.key,end = \" \")\n",
    "\n",
    "root = Node(1)\n",
    "root.left = Node(2)\n",
    "root.right = Node(3)\n",
    "root.left.left = Node(5)\n",
    "root.left.right = Node(8)\n",
    "root.left.right.left = Node(9)\n",
    "root.left.right.right = Node(11)\n",
    "root.left.left.left = Node(10)\n",
    "root.left.left.right = Node(15)\n",
    "root.right.left = Node(4)\n",
    "root.right.right = Node(6)\n",
    "root.right.right.left = Node(28)\n",
    "root.right.right.right = Node(30)\n",
    "root.right.left.right = Node(25)\n",
    "root.right.left.left = Node(21)\n",
    "\n",
    "print(\"Inorder : \",end = \" \")\n",
    "inorder(root)\n",
    "print(\"Preorder : \",end = \" \")\n",
    "preorder(root)\n",
    "print(\"Postorder : \",end = \" \")\n",
    "postorder(root)\n",
    "\n",
    "\n",
    "\n"
   ]
  },
  {
   "cell_type": "code",
   "execution_count": 39,
   "metadata": {},
   "outputs": [
    {
     "name": "stdout",
     "output_type": "stream",
     "text": [
      "hello\n",
      "there\n"
     ]
    }
   ],
   "source": [
    "print(\"hello\"),\n",
    "print(\"there\")"
   ]
  }
 ],
 "metadata": {
  "kernelspec": {
   "display_name": "Python 3",
   "language": "python",
   "name": "python3"
  },
  "language_info": {
   "codemirror_mode": {
    "name": "ipython",
    "version": 3
   },
   "file_extension": ".py",
   "mimetype": "text/x-python",
   "name": "python",
   "nbconvert_exporter": "python",
   "pygments_lexer": "ipython3",
   "version": "3.7.6"
  }
 },
 "nbformat": 4,
 "nbformat_minor": 4
}
